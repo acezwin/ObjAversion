{
 "cells": [
  {
   "cell_type": "code",
   "execution_count": 21,
   "id": "3e3b7211",
   "metadata": {},
   "outputs": [],
   "source": [
    "# data\n",
    "import numpy as np\n",
    "import matplotlib.pyplot as plt\n",
    "import pandas as pd\n",
    "from sklearn.model_selection import train_test_split\n",
    "# errors\n",
    "from sklearn.metrics import mean_absolute_error,mean_squared_error,r2_score\n",
    "from sklearn import metrics \n",
    "from sklearn import svm\n",
    "# polynomial\n",
    "from sklearn.preprocessing import PolynomialFeatures\n",
    "from sklearn.linear_model import LinearRegression\n",
    "from sklearn import linear_model\n",
    "# RFR\n",
    "from sklearn.ensemble import RandomForestRegressor\n",
    "# KNN\n",
    "from sklearn.neighbors import KNeighborsRegressor\n",
    "# RN\n",
    "from sklearn.neighbors import RadiusNeighborsRegressor \n",
    "# VS\n",
    "from sklearn import svm\n",
    "# Linear\n",
    "from sklearn.linear_model import LinearRegression\n",
    "# debug\n",
    "import pdb\n"
   ]
  },
  {
   "cell_type": "markdown",
   "id": "825d077a",
   "metadata": {},
   "source": [
    "# Setting Data"
   ]
  },
  {
   "cell_type": "code",
   "execution_count": 22,
   "id": "c3ef49cd",
   "metadata": {},
   "outputs": [],
   "source": [
    "# filter dataset by class number \n",
    "def filtering ( dataset, num):\n",
    "    dataset = dataset[dataset['class_number'] == num]\n",
    "    return dataset\n",
    "\n",
    "# filtering out rows that contains less than 10 objects and combine it into one column\n",
    "def filtering2 (dataset, class_number):\n",
    "    other = []\n",
    "    for i in class_number:\n",
    "        if (len(dataset[dataset['class_number']== i]) < 10):\n",
    "            other.append(i)\n",
    "    return other\n"
   ]
  },
  {
   "cell_type": "markdown",
   "id": "ad4bcfcc",
   "metadata": {},
   "source": [
    "# Polynomial Regression"
   ]
  },
  {
   "cell_type": "code",
   "execution_count": 23,
   "id": "daa919f5",
   "metadata": {},
   "outputs": [],
   "source": [
    "def polynomial (X_train,X_test, y_train, y_test, degree):\n",
    "    poly_transform = PolynomialFeatures(degree = degree)\n",
    "    \n",
    "    linear_reg = linear_model.LinearRegression()\n",
    "    poly_transform.fit(X_train)\n",
    "    \n",
    "    x_train_poly = poly_transform.transform(X_train)\n",
    "    x_test_poly = poly_transform.transform(X_test)\n",
    "    linear_reg.fit(x_train_poly, y_train)\n",
    "    P_y_pred = linear_reg.predict(x_test_poly)\n",
    "    #error reports\n",
    "    P_RMSE = np.sqrt(mean_squared_error(y_test, P_y_pred)) #lower better\n",
    "    P_r2 = r2_score(y_test, P_y_pred) #higher better\n",
    "    P_MAE = mean_absolute_error(y_test, P_y_pred) #lower better\n",
    "    \n",
    "    #plot values\n",
    "    plt.scatter(y_test, P_y_pred, color='blue')\n",
    "    plt.plot([0, 300],[0, 300], color='red')\n",
    "\n",
    "    plt.title('Poly Regression')\n",
    "    plt.xlabel('Actual')\n",
    "    plt.ylabel('Prediction')\n",
    "    plt.show()\n",
    "    \n",
    "    print(\"Poly \", P_RMSE, P_r2, P_MAE)\n",
    "    return P_RMSE, P_r2, P_MAE\n"
   ]
  },
  {
   "cell_type": "markdown",
   "id": "81b08498",
   "metadata": {},
   "source": [
    "# RandomForest Regression"
   ]
  },
  {
   "cell_type": "code",
   "execution_count": 24,
   "id": "af8f3f7d",
   "metadata": {},
   "outputs": [],
   "source": [
    "def random_forest(X_train,X_test, y_train, y_test):\n",
    "    RFregressor = RandomForestRegressor(n_estimators = 10, random_state = 0)\n",
    "    RFregressor.fit(X_train, y_train)\n",
    "\n",
    "    RF_y_pred = RFregressor.predict(X_test)\n",
    "    #error reports\n",
    "    RF_RMSE = np.sqrt(mean_squared_error(y_test, RF_y_pred))\n",
    "    RF_r2 = (r2_score(y_test, RF_y_pred))\n",
    "    RF_MAE = mean_absolute_error(y_test, RF_y_pred)\n",
    "    \n",
    "    #plot values\n",
    "    plt.scatter(y_test, RF_y_pred, color='blue')\n",
    "    plt.plot([0, 300],[0, 300], color='red')\n",
    "\n",
    "    plt.title('Random Forest Regression')\n",
    "    plt.xlabel('Actual')\n",
    "    plt.ylabel('Prediction')\n",
    "    plt.show()\n",
    "    print(\"RF \", RF_RMSE, RF_r2, RF_MAE )\n",
    "    return RF_RMSE, RF_r2, RF_MAE"
   ]
  },
  {
   "cell_type": "markdown",
   "id": "9bff8ff2",
   "metadata": {},
   "source": [
    "# K-NearestNeighbor Regression"
   ]
  },
  {
   "cell_type": "code",
   "execution_count": 25,
   "id": "f285ded4",
   "metadata": {},
   "outputs": [],
   "source": [
    "def k_nearest_neighbor(X_train,X_test, y_train, y_test, n):\n",
    "    knn = KNeighborsRegressor(n_neighbors = n)\n",
    "    knn.fit(X_train, y_train)\n",
    "    KNN_y_pred = knn.predict(X_test)\n",
    "    \n",
    "    #error reports\n",
    "    KNN_RMSE = np.sqrt(mean_squared_error(y_test, KNN_y_pred))\n",
    "    KNN_r2 = (r2_score(y_test, KNN_y_pred))\n",
    "    KNN_MAE = mean_absolute_error(y_test, KNN_y_pred)\n",
    "    #plot values\n",
    "    plt.scatter(y_test, KNN_y_pred, color='blue')\n",
    "    plt.plot([0, 300],[0, 300], color='red')\n",
    "\n",
    "    plt.title('KNN Regression')\n",
    "    plt.xlabel('Actual')\n",
    "    plt.ylabel('Prediction')\n",
    "    plt.show()\n",
    "    print(\"KNN \", KNN_RMSE, KNN_r2, KNN_MAE)\n",
    "    return KNN_RMSE, KNN_r2, KNN_MAE"
   ]
  },
  {
   "cell_type": "markdown",
   "id": "91b8099a",
   "metadata": {},
   "source": [
    "# Vector Space Regression"
   ]
  },
  {
   "cell_type": "code",
   "execution_count": 26,
   "id": "3d326f89",
   "metadata": {},
   "outputs": [],
   "source": [
    "def vector_space (X_train,X_test, y_train, y_test):\n",
    "    vectorS = svm.SVC().fit(X_train, y_train)\n",
    "    VS_y_pred = vectorS.predict(X_test)\n",
    "    \n",
    "    #error reports\n",
    "    VS_RMSE = np.sqrt(mean_squared_error(y_test, VS_y_pred))\n",
    "    VS_r2 = (r2_score(y_test, VS_y_pred))\n",
    "    VS_MAE = mean_absolute_error(y_test, VS_y_pred)\n",
    "    \n",
    "    #plot values\n",
    "    plt.scatter(y_test, VS_y_pred, color='blue')\n",
    "    plt.plot([0, 300],[0, 300], color='red')\n",
    "\n",
    "    plt.title('VS Regression')\n",
    "    plt.xlabel('Actual')\n",
    "    plt.ylabel('Prediction')\n",
    "    plt.show()\n",
    "    print(\"VS \",VS_RMSE, VS_r2, VS_MAE)\n",
    "    return VS_RMSE, VS_r2, VS_MAE"
   ]
  },
  {
   "cell_type": "markdown",
   "id": "24c62f1e",
   "metadata": {},
   "source": [
    "# Linear Regression Regression"
   ]
  },
  {
   "cell_type": "code",
   "execution_count": 27,
   "id": "371f7f51",
   "metadata": {},
   "outputs": [],
   "source": [
    "def linear (X_train,X_test, y_train, y_test):\n",
    "    LR = LinearRegression().fit(X_train, y_train)\n",
    "    LR_y_pred = LR.predict(X_test)\n",
    "    \n",
    "    #error reports\n",
    "    LR_RMSE = np.sqrt(mean_squared_error(y_test, LR_y_pred))\n",
    "    LR_r2 = (r2_score(y_test, LR_y_pred))\n",
    "    LR_MAE = mean_absolute_error(y_test, LR_y_pred)\n",
    "    #plot values\n",
    "    plt.scatter(y_test, LR_y_pred, color='blue')\n",
    "    plt.plot([0, 300],[0, 300], color='red')\n",
    "\n",
    "    plt.title('Linear Regression')\n",
    "    plt.xlabel('Actual')\n",
    "    plt.ylabel('Prediction')\n",
    "    plt.show()\n",
    "    print(\"LR\", LR_RMSE, LR_r2, LR_MAE)\n",
    "    return LR_RMSE, LR_r2, LR_MAE"
   ]
  },
  {
   "cell_type": "markdown",
   "id": "8ee08218",
   "metadata": {},
   "source": [
    "# RN"
   ]
  },
  {
   "cell_type": "code",
   "execution_count": 28,
   "id": "dc0b42c7",
   "metadata": {},
   "outputs": [],
   "source": [
    "def radius_neighbor (X_train,X_test, y_train, y_test):\n",
    "    RN = RadiusNeighborsRegressor(radius=5.0, weights='distance', algorithm='auto')\n",
    "    RN.fit(X_train, y_train)\n",
    "    RN_y_pred = RN.predict(X_test)\n",
    "\n",
    "    RN_RMSE = np.sqrt(mean_squared_error(y_test, RN_y_pred))\n",
    "    RN_r2 = (r2_score(y_test, RN_y_pred))\n",
    "    RN_MAE = mean_absolute_error(y_test, RN_y_pred)\n",
    "\n",
    "    #plot values\n",
    "    plt.scatter(y_test, RN_y_pred, color='blue')\n",
    "    plt.plot([0, 1000],[0, 1000], color='red')\n",
    "\n",
    "    plt.title('Radius Neighbor Regression')\n",
    "    plt.xlabel('Actual')\n",
    "    plt.ylabel('Prediction')\n",
    "    plt.show()\n",
    "    print(\"RN\", RN_RMSE, RN_r2, RN_MAE)\n",
    "    return RN_RMSE, RN_r2, RN_MAE    "
   ]
  },
  {
   "cell_type": "markdown",
   "id": "6bc70914",
   "metadata": {},
   "source": [
    "# Running Test(s) by classification"
   ]
  },
  {
   "cell_type": "code",
   "execution_count": 29,
   "id": "e8f66978",
   "metadata": {},
   "outputs": [],
   "source": [
    "# url = \"data1&2.csv\"\n",
    "\n",
    "# file_name= '/Users/myatwin/REU/Project/ObjRec/automl/efficientdet/Distance_Jupyter/compare_model.csv'\n",
    "# # df.to_csv(raw_data)\n",
    "\n",
    "# predictors = [\"y_min_sqrt\", \"x_min_sqrt\", \"y_max_sqrt\", \"x_max_sqrt\", \"prediction\", \"class_number\"]\n",
    "# csv_columns = ['data_set','class number', 'condition','error stats','linear', 'polynomial', 'vector_space','KNN','random_forest']\n",
    "# class_number = []\n",
    "# other = []\n",
    "# raw_data = {}\n",
    "# dataset = pd.read_csv(url)\n",
    "# class_number = dataset[\"class_number\"].unique()\n",
    "# other = filtering2(dataset, class_number) \n",
    "# final_list = [i for i in class_number if i not in other]\n",
    "# # other = [x in other for x in dataset['class_number']]\n",
    "# # other_data = dataset[other]# adding up\n",
    "\n",
    "# print(\"class_number: \", class_number)\n",
    "# print(\"other: \", other)\n",
    "# print(\"final_list\", final_list )\n",
    "\n",
    "# # df = pd.DataFrame(raw_data, columns = csv_columns)\n",
    "# # df.to_csv(file_name)\n",
    "\n",
    "# # running all class numbers with more than 10 objects found\n",
    "# for index, i in enumerate(final_list):\n",
    "#     temp_dataset = filtering(dataset, i)\n",
    "#     print(\"temp_dataset: \")\n",
    "#     print(temp_dataset)\n",
    "#     # setting values for models\n",
    "#     X = temp_dataset[predictors].values\n",
    "#     y = temp_dataset[\"distance(inches)\"].values\n",
    "#     X_train, X_test, y_train, y_test = train_test_split(X, y, test_size=0.20, random_state=0)\n",
    "# # saving model results into csv \n",
    "# #     pdb.set_trace()\n",
    "#     raw_data = {\n",
    "#                 'data_set': url,\n",
    "#                 'class number': i, \n",
    "#                 'condition': str(predictors),   \n",
    "#                 'error stats': [\"RMSE\", \"r2\", \"MAE\"],\n",
    "#                 'linear': linear(X_train,X_test, y_train, y_test),\n",
    "#                 'polynomial': polynomial(X_train,X_test, y_train, y_test, 3),\n",
    "#                 'vector_space': vector_space(X_train,X_test, y_train, y_test),\n",
    "#                 'KNN': k_nearest_neighbor(X_train,X_test, y_train, y_test, 10),\n",
    "#                 'random_forest': random_forest(X_train,X_test, y_train, y_test)\n",
    "#                 }\n",
    "    \n",
    "\n",
    "    \n",
    "#     df = pd.DataFrame(raw_data, columns = csv_columns)\n",
    "#     df.to_csv(file_name, mode = 'a', header = False)\n"
   ]
  },
  {
   "cell_type": "markdown",
   "id": "e1b282f2",
   "metadata": {},
   "source": [
    "# custom train/test datasets"
   ]
  },
  {
   "cell_type": "code",
   "execution_count": 30,
   "id": "f6485106",
   "metadata": {},
   "outputs": [],
   "source": [
    "# url = \"train_data.csv\"\n",
    "# url2 = \"test_data.csv\"\n",
    "\n",
    "# file_name= '/Users/myatwin/REU/Project/ObjRec/automl/efficientdet/Distance_Jupyter/compare_model.csv'\n",
    "\n",
    "\n",
    "# # predictors = [\"f1\", \"f2\", \"accuracy\", \"class_number\"]\n",
    "# # predictors = [\"y_min\", \"x_min\", \"y_max\", \"x_max\", \"accuracy\", \"class_number\"]\n",
    "# predictors = [\"y_min_sqrt\", \"x_min_sqrt\", \"y_max_sqrt\", \"x_max_sqrt\", \"accuracy\", \"class_number\"]\n",
    "# csv_columns = ['data_set','class number', 'condition','error stats','linear', 'polynomial', 'vector_space','KNN','random_forest']\n",
    "# class_number = []\n",
    "# other = []\n",
    "# raw_data = {}\n",
    "\n",
    "# # training data\n",
    "# dataset = pd.read_csv(url)\n",
    "# a = [x in [1, 62, 15] for x in dataset['class_number']]\n",
    "# temp_dataset = dataset[a]\n",
    "\n",
    "\n",
    "# # training data\n",
    "# dataset2 = pd.read_csv(url2)\n",
    "# b = [z in [1, 62, 15] for z in dataset2['class_number']]\n",
    "# temp_dataset2 = dataset2[b]\n",
    "\n",
    "# # other = [x in other for x in dataset['class_number']]\n",
    "# # other_data = dataset[other]# adding up\n",
    "\n",
    "\n",
    "# # df = pd.DataFrame(raw_data, columns = csv_columns)\n",
    "# # df.to_csv(file_name)\n",
    "\n",
    "# # running all class numbers with more than 10 objects found\n",
    "\n",
    "\n",
    "# X_train = temp_dataset[predictors].values\n",
    "# X_test = temp_dataset2[predictors].values\n",
    "# y_train = temp_dataset[\"distance\"].values\n",
    "# y_test = temp_dataset2[\"distance\"].values\n",
    "# # saving model results into csv \n",
    "# #     pdb.set_trace()\n",
    "# raw_data = {\n",
    "#             'data_set': url,\n",
    "#             'class number': \"person,chair,bench\", \n",
    "#             'condition': str(predictors),   \n",
    "#             'error stats': [\"RMSE\", \"r2\", \"MAE\"],\n",
    "#             'linear': linear(X_train,X_test, y_train, y_test),\n",
    "#             'polynomial': polynomial(X_train,X_test, y_train, y_test, 3),\n",
    "#             'vector_space': vector_space(X_train,X_test, y_train, y_test),\n",
    "#             'KNN': k_nearest_neighbor(X_train,X_test, y_train, y_test, 10),\n",
    "#             'random_forest': random_forest(X_train,X_test, y_train, y_test)\n",
    "#             }\n",
    "# df = pd.DataFrame(raw_data, columns = csv_columns)\n",
    "# df.to_csv(file_name, mode = 'a', header = False)\n"
   ]
  },
  {
   "cell_type": "code",
   "execution_count": null,
   "id": "a535b876",
   "metadata": {},
   "outputs": [],
   "source": []
  },
  {
   "cell_type": "code",
   "execution_count": null,
   "id": "07b24177",
   "metadata": {},
   "outputs": [],
   "source": []
  },
  {
   "cell_type": "markdown",
   "id": "8bc01c80",
   "metadata": {},
   "source": [
    "The below code runs the \"other\" rows"
   ]
  },
  {
   "cell_type": "code",
   "execution_count": 31,
   "id": "4cfc2c82",
   "metadata": {},
   "outputs": [],
   "source": [
    "\n",
    "# file_name= '/Users/myatwin/REU/Project/ObjRec/automl/efficientdet/Distance_Jupyter/compare_model.csv'\n",
    "# # df.to_csv(raw_data)\n",
    "\n",
    "# predictors = [\"y_min_sqrt\", \"x_min_sqrt\", \"y_max_sqrt\", \"x_max_sqrt\", \"prediction\", \"class_number\"]\n",
    "# csv_columns = ['data_set','class number', 'condition','error stats','linear', 'polynomial', 'vector_space','KNN','random_forest']\n",
    "# # nning all class numbers with less than 10 objects found (combined list = a)\n",
    "# a = [x in other for x in dataset['class_number']]\n",
    "# other_dataset = dataset[a]\n",
    "# # setting values for models\n",
    "# X = other_dataset[predictors].values\n",
    "# y = other_dataset[\"distance(inches)\"].values\n",
    "# X_train, X_test, y_train, y_test = train_test_split(X, y, test_size=0.20, random_state=0)\n",
    "\n",
    "\n",
    "# # #getting all model stats  \n",
    "# raw_data = {\n",
    "#                 'data_set': url,\n",
    "#                 'class number': \"other\",  \n",
    "#                 'condition': str(predictors),   \n",
    "#                 'error stats': [\"RMSE\", \"r2\", \"MAE\"],\n",
    "#                 'linear': linear(X_train,X_test, y_train, y_test),\n",
    "#                 'polynomial': polynomial(X_train,X_test, y_train, y_test, 3),\n",
    "#                 'vector_space': vector_space(X_train,X_test, y_train, y_test),\n",
    "#                 'KNN': k_nearest_neighbor(X_train,X_test, y_train, y_test, 10),\n",
    "#                 'random_forest': random_forest(X_train,X_test, y_train, y_test)\n",
    "#                 }\n",
    "# df = pd.DataFrame(raw_data, columns = csv_columns)\n",
    "# df.to_csv(file_name, mode = 'a', header = False)\n"
   ]
  },
  {
   "cell_type": "code",
   "execution_count": 32,
   "id": "36ed0667",
   "metadata": {},
   "outputs": [],
   "source": [
    "\n",
    "# file_name= '/Users/myatwin/REU/Project/ObjRec/automl/efficientdet/Distance_Jupyter/compare_model.csv'\n",
    "# # df.to_csv(raw_data)\n",
    "\n",
    "# predictors = [\"y_min_sqrt\", \"x_min_sqrt\", \"y_max_sqrt\", \"x_max_sqrt\", \"prediction\", \"class_number\"]\n",
    "# csv_columns = ['data_set','class number', 'condition','error stats','linear', 'polynomial', 'vector_space','KNN','random_forest']\n",
    "# # nning all class numbers with less than 10 objects found (combined list = a)\n",
    "# a = [x in other for x in dataset['class_number']]\n",
    "# b = [z in other2 for z in dataset2['class_number']]\n",
    "\n",
    "# other_dataset = dataset[a]\n",
    "# other_dataset2 = dataset[b]\n",
    "\n",
    "# # setting values for models    \n",
    "# X_train = other_dataset[predictors].values\n",
    "# X_test = other_dataset2[predictors].values\n",
    "# y_train = other_dataset[\"distance\"].values\n",
    "# y_test = other_dataset2[\"distance\"].values\n",
    "\n",
    "# # #getting all model stats  \n",
    "# raw_data = {\n",
    "#                 'data_set': url,\n",
    "#                 'class number': \"other\",  \n",
    "#                 'condition': str(predictors),   \n",
    "#                 'error stats': [\"RMSE\", \"r2\", \"MAE\"],\n",
    "#                 'linear': linear(X_train,X_test, y_train, y_test),\n",
    "#                 'polynomial': polynomial(X_train,X_test, y_train, y_test, 3),\n",
    "#                 'vector_space': vector_space(X_train,X_test, y_train, y_test),\n",
    "#                 'KNN': k_nearest_neighbor(X_train,X_test, y_train, y_test, 10),\n",
    "#                 'random_forest': random_forest(X_train,X_test, y_train, y_test)\n",
    "#                 }\n",
    "# df = pd.DataFrame(raw_data, columns = csv_columns)\n",
    "# df.to_csv(file_name, mode = 'a', header = False)\n"
   ]
  },
  {
   "cell_type": "markdown",
   "id": "3a15f4e0",
   "metadata": {},
   "source": [
    "# Testing all"
   ]
  },
  {
   "cell_type": "code",
   "execution_count": 33,
   "id": "1bf61240",
   "metadata": {},
   "outputs": [],
   "source": [
    "# url = \"stat_distance.csv\"\n",
    "# url2 = \"data1.csv\"\n",
    "# file_name= '/Users/myatwin/REU/Project/ObjRec/automl/efficientdet/Distance_Jupyter/compare_model.csv'\n",
    "# # df.to_csv(raw_data)\n",
    "# raw_data = {}\n",
    "# predictors = [\"y_min\", \"x_min\", \"y_max\", \"x_max\", \"confidence (prediction)\"]\n",
    "# # predictors = [\"f1\", \"f2\",\"prediction\", \"class_number\"]\n",
    "# # predictors = [\"y_min_sqrt\", \"x_min_sqrt\", \"y_max_sqrt\", \"x_max_sqrt\", \"prediction\", \"class_number\"]\n",
    "\n",
    "# csv_columns = ['data_set','condition','error stats','linear', 'polynomial', 'vector_space','KNN','random_forest']\n",
    "\n",
    "# dataset = pd.read_csv(url)\n",
    "\n",
    "# df = pd.DataFrame(raw_data, columns = csv_columns)\n",
    "# # df.to_csv(file_name)\n",
    "\n",
    "# # running all class numbers with more than 10 objects found\n",
    "# X = dataset[predictors].values\n",
    "# y = dataset[\"distance\"].values\n",
    "# X_train, X_test, y_train, y_test = train_test_split(X, y, test_size=0.20, random_state=0)\n",
    "# # saving model results into csv \n",
    "# raw_data = {\n",
    "#             'data_set': url2, \n",
    "#             'condition': str(predictors),   \n",
    "#             'error stats': [\"RMSE\", \"r2\", \"MAE\"],\n",
    "#             'linear': linear(X_train,X_test, y_train, y_test),\n",
    "#             'polynomial': polynomial(X_train,X_test, y_train, y_test, 3),\n",
    "#             'vector_space': vector_space(X_train,X_test, y_train, y_test),\n",
    "#             'KNN': k_nearest_neighbor(X_train,X_test, y_train, y_test, 10),\n",
    "#             'random_forest': random_forest(X_train,X_test, y_train, y_test)\n",
    "#             }  \n",
    "# df = pd.DataFrame(raw_data, columns = csv_columns)\n",
    "# df.to_csv(file_name, mode = 'a', header = False)\n"
   ]
  },
  {
   "cell_type": "code",
   "execution_count": 44,
   "id": "8a608712",
   "metadata": {},
   "outputs": [
    {
     "data": {
      "image/png": "[encoded data removed]",
      "text/plain": [
       "<Figure size 432x288 with 1 Axes>"
      ]
     },
     "metadata": {
      "needs_background": "light"
     },
     "output_type": "display_data"
    },
    {
     "name": "stdout",
     "output_type": "stream",
     "text": [
      "LR 63.035452831769256 -0.16865046521498828 52.97490462915195\n"
     ]
    },
    {
     "data": {
      "image/png": "[encoded data removed]",
      "text/plain": [
       "<Figure size 432x288 with 1 Axes>"
      ]
     },
     "metadata": {
      "needs_background": "light"
     },
     "output_type": "display_data"
    },
    {
     "name": "stdout",
     "output_type": "stream",
     "text": [
      "Poly  51.47141433683609 0.2208033329882959 42.53037967446893\n"
     ]
    },
    {
     "data": {
      "image/png": "[encoded data removed]",
      "text/plain": [
       "<Figure size 432x288 with 1 Axes>"
      ]
     },
     "metadata": {
      "needs_background": "light"
     },
     "output_type": "display_data"
    },
    {
     "name": "stdout",
     "output_type": "stream",
     "text": [
      "VS  81.71889635805186 -0.9640831399510479 64.7032967032967\n"
     ]
    },
    {
     "data": {
      "image/png": "[encoded data removed]",
      "text/plain": [
       "<Figure size 432x288 with 1 Axes>"
      ]
     },
     "metadata": {
      "needs_background": "light"
     },
     "output_type": "display_data"
    },
    {
     "name": "stdout",
     "output_type": "stream",
     "text": [
      "KNN  53.33571738032356 0.16333584331530993 43.068498168498174\n"
     ]
    },
    {
     "data": {
      "image/png": "[encoded data removed]",
      "text/plain": [
       "<Figure size 432x288 with 1 Axes>"
      ]
     },
     "metadata": {
      "needs_background": "light"
     },
     "output_type": "display_data"
    },
    {
     "name": "stdout",
     "output_type": "stream",
     "text": [
      "RF  61.87552485291883 -0.12603703309179393 53.3734065934066\n"
     ]
    },
    {
     "data": {
      "image/png": "[encoded data removed]",
      "text/plain": [
       "<Figure size 432x288 with 1 Axes>"
      ]
     },
     "metadata": {
      "needs_background": "light"
     },
     "output_type": "display_data"
    },
    {
     "name": "stdout",
     "output_type": "stream",
     "text": [
      "RN 8.966403035409937e+18 -2.3645657505363053e+34 8.716593353511107e+18\n"
     ]
    }
   ],
   "source": [
    "url = \"d1_floor_only_250.csv\"\n",
    "url2 = \"d2_floor_only_250.csv\"\n",
    "\n",
    "file_name= '/Users/myatwin/REU/Project/ObjRec/automl/efficientdet/Distance_Jupyter/compare_model.csv'\n",
    "# df.to_csv(raw_data)\n",
    "raw_data = {}\n",
    "predictors = [\"y_max\",\"x_min\", \"\", \"x_max\"]\n",
    "# predictors = [\"f1\", \"f2\",\"prediction\", \"class_number\"]\n",
    "# predictors = [\"y_min_sqrt\", \"x_min_sqrt\", \"y_max_sqrt\", \"x_max_sqrt\", \"prediction\", \"class_number\"]\n",
    "\n",
    "csv_columns = ['data_set','condition','error stats','linear', 'polynomial', 'vector_space','KNN','random_forest', 'radius_neighbor']\n",
    "\n",
    "dataset = pd.read_csv(url)\n",
    "dataset2 = pd.read_csv(url2)\n",
    "\n",
    "df = pd.DataFrame(raw_data, columns = csv_columns)\n",
    "# df.to_csv(raw_data)\n",
    "\n",
    "# setting values for models using train = close data    \n",
    "X_train = dataset[predictors].values\n",
    "y_train = dataset[\"distance\"].values\n",
    "\n",
    "# setting values for models using test = dataset2    \n",
    "X_test = dataset2[predictors].values\n",
    "y_test = dataset2[\"distance\"].values\n",
    "\n",
    "L_RMSE, L_r2, L_MAE = linear(X_train,X_test, y_train, y_test)\n",
    "P_RMSE, P_r2, P_MAE = polynomial(X_train,X_test, y_train, y_test, 3)\n",
    "VS_RMSE, VS_r2, VS_MAE = vector_space(X_train,X_test, y_train, y_test)\n",
    "KNN_RMSE, KNN_r2, KNN_MAE = k_nearest_neighbor(X_train,X_test, y_train, y_test, 10)\n",
    "RF_RMSE, RF_r2, RF_MAE = random_forest(X_train,X_test, y_train, y_test)\n",
    "        \n",
    "\n",
    "# saving model results into csv \n",
    "raw_data = {\n",
    "            'data_set': \"train=data2,test=stat_noFLT\", \n",
    "            'condition': str(predictors),   \n",
    "            'error stats': [\"RMSE\", \"r2\", \"MAE\"],\n",
    "            'linear': linear(X_train,X_test, y_train, y_test),\n",
    "            'polynomial': polynomial(X_train,X_test, y_train, y_test, 3),\n",
    "            'vector_space': vector_space(X_train,X_test, y_train, y_test),\n",
    "            'KNN': k_nearest_neighbor(X_train,X_test, y_train, y_test, 10),\n",
    "            'random_forest': random_forest(X_train,X_test, y_train, y_test),\n",
    "            'radius_neighbor':radius_neighbor(X_train,X_test, y_train, y_test)\n",
    "            }  \n",
    "\n",
    "# df = pd.DataFrame(raw_data, columns = csv_columns)\n",
    "# df.to_csv(file_name, mode = 'a', header = False)\n"
   ]
  },
  {
   "cell_type": "markdown",
   "id": "9300cbdd",
   "metadata": {},
   "source": [
    "# Graphings"
   ]
  },
  {
   "cell_type": "code",
   "execution_count": null,
   "id": "d0d1b611",
   "metadata": {},
   "outputs": [],
   "source": []
  },
  {
   "cell_type": "code",
   "execution_count": null,
   "id": "7d0c77dd",
   "metadata": {},
   "outputs": [],
   "source": [
    "fields = [\"linear\", \"polynomial\", \"vector_space\", \"KNN\", \"random_forest\"]\n",
    "# lin = data[data[\"class number\"]==1][\"linear\"]\n",
    "\n",
    "fig = plt.figure(figsize=(16, 12))\n",
    "\n",
    "for ind, error in enumerate(list( data[\"class number\"].unique() )[:-1]):\n",
    "    ax = fig.add_subplot(3,4,ind+1)\n",
    "    for field in fields:\n",
    "        ax.plot(data[data[\"class number\"]==error][field])\n",
    "    ax.legend(fields)\n",
    "    ax.set_title(f\"Class number {error}\")\n",
    "# fig.savefig(\"Results.pdf\", bbox_inches='tight')  "
   ]
  },
  {
   "cell_type": "code",
   "execution_count": null,
   "id": "80d6c5de",
   "metadata": {},
   "outputs": [],
   "source": []
  },
  {
   "cell_type": "markdown",
   "id": "4b2bfe80",
   "metadata": {},
   "source": [
    "# Saving Results to CSV"
   ]
  },
  {
   "cell_type": "code",
   "execution_count": 35,
   "id": "59738e37",
   "metadata": {
    "scrolled": true
   },
   "outputs": [
    {
     "data": {
      "text/plain": [
       "array([[4.78e+02, 9.50e-01],\n",
       "       [4.74e+02, 9.50e-01],\n",
       "       [4.81e+02, 8.10e-01],\n",
       "       ...,\n",
       "       [3.19e+02, 3.80e-01],\n",
       "       [3.18e+02, 3.60e-01],\n",
       "       [3.19e+02, 3.80e-01]])"
      ]
     },
     "execution_count": 35,
     "metadata": {},
     "output_type": "execute_result"
    }
   ],
   "source": [
    "dataset[predictors].values"
   ]
  },
  {
   "cell_type": "code",
   "execution_count": 36,
   "id": "41bee2fb",
   "metadata": {},
   "outputs": [],
   "source": [
    "\n",
    "# file_name= '/Users/myatwin/REU/Project/ObjRec/automl/efficientdet/Distance_Jupyter/compare_model.csv'\n",
    "# raw_data = {'condition': str(predictors),\n",
    "#             'data_set': url,\n",
    "#             'linear': [LR_RMSE, LR_r2, LR_MAE],\n",
    "#             'polynomial': [P_RMSE, P_r2, P_MAE],\n",
    "#             'vecto]r_space': [VS_RMSE, VS_r2, VS_MAE],\n",
    "#             'KNN': [KNN_RMSE, KNN_r2, KNN_MAE],\n",
    "#             'random_forest': [RF_RMSE, RF_r2, RF_MAE]}\n",
    "# df = pd.DataFrame(raw_data, columns = ['data_set','condition','linear', 'polynomial', 'vector_space','KNN','random_forest'])\n",
    "# df.to_csv(raw_data)\n",
    "# df.to_csv(file_name, mode = 'a', header = False)\n"
   ]
  },
  {
   "cell_type": "code",
   "execution_count": 37,
   "id": "de8f481d",
   "metadata": {
    "scrolled": true
   },
   "outputs": [],
   "source": [
    "# df"
   ]
  },
  {
   "cell_type": "code",
   "execution_count": 38,
   "id": "3240e6bc",
   "metadata": {},
   "outputs": [],
   "source": [
    "# # this will empty the csv file\n",
    "# file_name= '/Users/myatwin/REU/Project/ObjRec/automl/efficientdet/Distance_Jupyter/compare_model.csv'\n",
    "# df = open(file_name, \"w+\")"
   ]
  },
  {
   "cell_type": "code",
   "execution_count": null,
   "id": "b2f8b491",
   "metadata": {},
   "outputs": [],
   "source": []
  }
 ],
 "metadata": {
  "kernelspec": {
   "display_name": "Python 3",
   "language": "python",
   "name": "python3"
  },
  "language_info": {
   "codemirror_mode": {
    "name": "ipython",
    "version": 3
   },
   "file_extension": ".py",
   "mimetype": "text/x-python",
   "name": "python",
   "nbconvert_exporter": "python",
   "pygments_lexer": "ipython3",
   "version": "3.7.10"
  }
 },
 "nbformat": 4,
 "nbformat_minor": 5
}
