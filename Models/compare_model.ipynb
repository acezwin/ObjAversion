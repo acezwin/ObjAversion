{
 "cells": [
  {
   "cell_type": "code",
   "execution_count": 2,
   "id": "3e3b7211",
   "metadata": {},
   "outputs": [],
   "source": [
    "# data\n",
    "import numpy as np\n",
    "import matplotlib.pyplot as plt\n",
    "import pandas as pd\n",
    "from sklearn.model_selection import train_test_split\n",
    "# errors\n",
    "from sklearn.metrics import mean_absolute_error,mean_squared_error,r2_score\n",
    "from sklearn import metrics \n",
    "from sklearn import svm\n",
    "# polynomial\n",
    "from sklearn.preprocessing import PolynomialFeatures\n",
    "from sklearn.linear_model import LinearRegression\n",
    "from sklearn import linear_model\n",
    "# RFR\n",
    "from sklearn.ensemble import RandomForestRegressor\n",
    "# KNN\n",
    "from sklearn.neighbors import KNeighborsRegressor\n",
    "# RN\n",
    "from sklearn.neighbors import RadiusNeighborsRegressor \n",
    "# VS\n",
    "from sklearn import svm\n",
    "# Linear\n",
    "from sklearn.linear_model import LinearRegression\n",
    "# debug\n",
    "import pdb\n"
   ]
  },
  {
   "cell_type": "markdown",
   "id": "825d077a",
   "metadata": {},
   "source": [
    "# Setting Data"
   ]
  },
  {
   "cell_type": "code",
   "execution_count": 3,
   "id": "c3ef49cd",
   "metadata": {},
   "outputs": [],
   "source": [
    "# filter dataset by class number \n",
    "def filtering ( dataset, num):\n",
    "    dataset = dataset[dataset['class_number'] == num]\n",
    "    return dataset\n",
    "\n",
    "# filtering out rows that contains less than 10 objects and combine it into one column\n",
    "def filtering2 (dataset, class_number):\n",
    "    other = []\n",
    "    for i in class_number:\n",
    "        if (len(dataset[dataset['class_number']== i]) < 10):\n",
    "            other.append(i)\n",
    "    return other\n"
   ]
  },
  {
   "cell_type": "markdown",
   "id": "ad4bcfcc",
   "metadata": {},
   "source": [
    "# Polynomial Regression"
   ]
  },
  {
   "cell_type": "code",
   "execution_count": 4,
   "id": "daa919f5",
   "metadata": {},
   "outputs": [],
   "source": [
    "def polynomial (X_train,X_test, y_train, y_test, degree):\n",
    "    poly_transform = PolynomialFeatures(degree = degree)\n",
    "    \n",
    "    linear_reg = linear_model.LinearRegression()\n",
    "    poly_transform.fit(X_train)\n",
    "    \n",
    "    x_train_poly = poly_transform.transform(X_train)\n",
    "    x_test_poly = poly_transform.transform(X_test)\n",
    "    linear_reg.fit(x_train_poly, y_train)\n",
    "    P_y_pred = linear_reg.predict(x_test_poly)\n",
    "    #error reports\n",
    "    P_RMSE = np.sqrt(mean_squared_error(y_test, P_y_pred)) #lower better\n",
    "    P_r2 = r2_score(y_test, P_y_pred) #higher better\n",
    "    P_MAE = mean_absolute_error(y_test, P_y_pred) #lower better\n",
    "    \n",
    "    #plot values\n",
    "    plt.scatter(y_test, P_y_pred, color='blue')\n",
    "    plt.plot([0, 300],[0, 300], color='red')\n",
    "\n",
    "    plt.title('Poly Regression')\n",
    "    plt.xlabel('Actual')\n",
    "    plt.ylabel('Prediction')\n",
    "    plt.show()\n",
    "    \n",
    "    print(\"Poly \", P_RMSE, P_r2, P_MAE)\n",
    "    return P_RMSE, P_r2, P_MAE\n"
   ]
  },
  {
   "cell_type": "markdown",
   "id": "81b08498",
   "metadata": {},
   "source": [
    "# RandomForest Regression"
   ]
  },
  {
   "cell_type": "code",
   "execution_count": 5,
   "id": "af8f3f7d",
   "metadata": {},
   "outputs": [],
   "source": [
    "def random_forest(X_train,X_test, y_train, y_test):\n",
    "    RFregressor = RandomForestRegressor(n_estimators = 10, random_state = 0)\n",
    "    RFregressor.fit(X_train, y_train)\n",
    "\n",
    "    RF_y_pred = RFregressor.predict(X_test)\n",
    "    #error reports\n",
    "    RF_RMSE = np.sqrt(mean_squared_error(y_test, RF_y_pred))\n",
    "    RF_r2 = (r2_score(y_test, RF_y_pred))\n",
    "    RF_MAE = mean_absolute_error(y_test, RF_y_pred)\n",
    "    \n",
    "    #plot values\n",
    "    plt.scatter(y_test, RF_y_pred, color='blue')\n",
    "    plt.plot([0, 300],[0, 300], color='red')\n",
    "\n",
    "    plt.title('Random Forest Regression')\n",
    "    plt.xlabel('Actual')\n",
    "    plt.ylabel('Prediction')\n",
    "    plt.show()\n",
    "    print(\"RF \", RF_RMSE, RF_r2, RF_MAE )\n",
    "    return RF_RMSE, RF_r2, RF_MAE"
   ]
  },
  {
   "cell_type": "markdown",
   "id": "9bff8ff2",
   "metadata": {},
   "source": [
    "# K-NearestNeighbor Regression"
   ]
  },
  {
   "cell_type": "code",
   "execution_count": 6,
   "id": "f285ded4",
   "metadata": {},
   "outputs": [],
   "source": [
    "def k_nearest_neighbor(X_train,X_test, y_train, y_test, n):\n",
    "    knn = KNeighborsRegressor(n_neighbors = n)\n",
    "    knn.fit(X_train, y_train)\n",
    "    KNN_y_pred = knn.predict(X_test)\n",
    "    \n",
    "    #error reports\n",
    "    KNN_RMSE = np.sqrt(mean_squared_error(y_test, KNN_y_pred))\n",
    "    KNN_r2 = (r2_score(y_test, KNN_y_pred))\n",
    "    KNN_MAE = mean_absolute_error(y_test, KNN_y_pred)\n",
    "    #plot values\n",
    "    plt.scatter(y_test, KNN_y_pred, color='blue')\n",
    "    plt.plot([0, 300],[0, 300], color='red')\n",
    "\n",
    "    plt.title('KNN Regression')\n",
    "    plt.xlabel('Actual')\n",
    "    plt.ylabel('Prediction')\n",
    "    plt.show()\n",
    "    print(\"KNN \", KNN_RMSE, KNN_r2, KNN_MAE)\n",
    "    return KNN_RMSE, KNN_r2, KNN_MAE"
   ]
  },
  {
   "cell_type": "markdown",
   "id": "91b8099a",
   "metadata": {},
   "source": [
    "# Vector Space Regression"
   ]
  },
  {
   "cell_type": "code",
   "execution_count": 7,
   "id": "3d326f89",
   "metadata": {},
   "outputs": [],
   "source": [
    "def vector_space (X_train,X_test, y_train, y_test):\n",
    "    vectorS = svm.SVC().fit(X_train, y_train)\n",
    "    VS_y_pred = vectorS.predict(X_test)\n",
    "    \n",
    "    #error reports\n",
    "    VS_RMSE = np.sqrt(mean_squared_error(y_test, VS_y_pred))\n",
    "    VS_r2 = (r2_score(y_test, VS_y_pred))\n",
    "    VS_MAE = mean_absolute_error(y_test, VS_y_pred)\n",
    "    \n",
    "    #plot values\n",
    "    plt.scatter(y_test, VS_y_pred, color='blue')\n",
    "    plt.plot([0, 300],[0, 300], color='red')\n",
    "\n",
    "    plt.title('VS Regression')\n",
    "    plt.xlabel('Actual')\n",
    "    plt.ylabel('Prediction')\n",
    "    plt.show()\n",
    "    print(\"VS \",VS_RMSE, VS_r2, VS_MAE)\n",
    "    return VS_RMSE, VS_r2, VS_MAE"
   ]
  },
  {
   "cell_type": "markdown",
   "id": "24c62f1e",
   "metadata": {},
   "source": [
    "# Linear Regression Regression"
   ]
  },
  {
   "cell_type": "code",
   "execution_count": 8,
   "id": "371f7f51",
   "metadata": {},
   "outputs": [],
   "source": [
    "def linear (X_train,X_test, y_train, y_test):\n",
    "    LR = LinearRegression().fit(X_train, y_train)\n",
    "    LR_y_pred = LR.predict(X_test)\n",
    "    \n",
    "    #error reports\n",
    "    LR_RMSE = np.sqrt(mean_squared_error(y_test, LR_y_pred))\n",
    "    LR_r2 = (r2_score(y_test, LR_y_pred))\n",
    "    LR_MAE = mean_absolute_error(y_test, LR_y_pred)\n",
    "    #plot values\n",
    "    plt.scatter(y_test, LR_y_pred, color='blue')\n",
    "    plt.plot([0, 300],[0, 300], color='red')\n",
    "\n",
    "    plt.title('Linear Regression')\n",
    "    plt.xlabel('Actual')\n",
    "    plt.ylabel('Prediction')\n",
    "    plt.show()\n",
    "    print(\"LR\", LR_RMSE, LR_r2, LR_MAE)\n",
    "    return LR_RMSE, LR_r2, LR_MAE"
   ]
  },
  {
   "cell_type": "markdown",
   "id": "8ee08218",
   "metadata": {},
   "source": [
    "# RN"
   ]
  },
  {
   "cell_type": "code",
   "execution_count": 9,
   "id": "dc0b42c7",
   "metadata": {},
   "outputs": [],
   "source": [
    "def radius_neighbor (X_train,X_test, y_train, y_test):\n",
    "    RN = RadiusNeighborsRegressor(radius=5.0, weights='distance', algorithm='auto')\n",
    "    RN.fit(X_train, y_train)\n",
    "    RN_y_pred = RN.predict(X_test)\n",
    "\n",
    "    RN_RMSE = np.sqrt(mean_squared_error(y_test, RN_y_pred))\n",
    "    RN_r2 = (r2_score(y_test, RN_y_pred))\n",
    "    RN_MAE = mean_absolute_error(y_test, RN_y_pred)\n",
    "\n",
    "    #plot values\n",
    "    plt.scatter(y_test, RN_y_pred, color='blue')\n",
    "    plt.plot([0, 1000],[0, 1000], color='red')\n",
    "\n",
    "    plt.title('Radius Neighbor Regression')\n",
    "    plt.xlabel('Actual')\n",
    "    plt.ylabel('Prediction')\n",
    "    plt.show()\n",
    "    print(\"RN\", RN_RMSE, RN_r2, RN_MAE)\n",
    "    return RN_RMSE, RN_r2, RN_MAE    "
   ]
  },
  {
   "cell_type": "markdown",
   "id": "6bc70914",
   "metadata": {},
   "source": [
    "# Running Test(s) by classification"
   ]
  },
  {
   "cell_type": "code",
   "execution_count": 9,
   "id": "e8f66978",
   "metadata": {},
   "outputs": [],
   "source": [
    "url = \"data1&2.csv\"\n",
    "\n",
    "file_name= '/Users/myatwin/REU/Project/ObjRec/automl/efficientdet/Distance_Jupyter/compare_model.csv'\n",
    "# df.to_csv(raw_data)\n",
    "\n",
    "predictors = [\"y_min_sqrt\", \"x_min_sqrt\", \"y_max_sqrt\", \"x_max_sqrt\", \"prediction\", \"class_number\"]\n",
    "csv_columns = ['data_set','class number', 'condition','error stats','linear', 'polynomial', 'vector_space','KNN','random_forest']\n",
    "class_number = []\n",
    "other = []\n",
    "raw_data = {}\n",
    "dataset = pd.read_csv(url)\n",
    "class_number = dataset[\"class_number\"].unique()\n",
    "other = filtering2(dataset, class_number) \n",
    "final_list = [i for i in class_number if i not in other]\n",
    "# other = [x in other for x in dataset['class_number']]\n",
    "# other_data = dataset[other]# adding up\n",
    "\n",
    "print(\"class_number: \", class_number)\n",
    "print(\"other: \", other)\n",
    "print(\"final_list\", final_list )\n",
    "\n",
    "# df = pd.DataFrame(raw_data, columns = csv_columns)\n",
    "# df.to_csv(file_name)\n",
    "\n",
    "# running all class numbers with more than 10 objects found\n",
    "for index, i in enumerate(final_list):\n",
    "    temp_dataset = filtering(dataset, i)\n",
    "    print(\"temp_dataset: \")\n",
    "    print(temp_dataset)\n",
    "    # setting values for models\n",
    "    X = temp_dataset[predictors].values\n",
    "    y = temp_dataset[\"distance(inches)\"].values\n",
    "    X_train, X_test, y_train, y_test = train_test_split(X, y, test_size=0.20, random_state=0)\n",
    "# saving model results into csv \n",
    "#     pdb.set_trace()\n",
    "    raw_data = {\n",
    "                'data_set': url,\n",
    "                'class number': i, \n",
    "                'condition': str(predictors),   \n",
    "                'error stats': [\"RMSE\", \"r2\", \"MAE\"],\n",
    "                'linear': linear(X_train,X_test, y_train, y_test),\n",
    "                'polynomial': polynomial(X_train,X_test, y_train, y_test, 3),\n",
    "                'vector_space': vector_space(X_train,X_test, y_train, y_test),\n",
    "                'KNN': k_nearest_neighbor(X_train,X_test, y_train, y_test, 10),\n",
    "                'random_forest': random_forest(X_train,X_test, y_train, y_test)\n",
    "                }\n",
    "    \n",
    "\n",
    "    \n",
    "    df = pd.DataFrame(raw_data, columns = csv_columns)\n",
    "    df.to_csv(file_name, mode = 'a', header = False)\n"
   ]
  },
  {
   "cell_type": "markdown",
   "id": "e1b282f2",
   "metadata": {},
   "source": [
    "# custom train/test datasets"
   ]
  },
  {
   "cell_type": "code",
   "execution_count": 10,
   "id": "f6485106",
   "metadata": {},
   "outputs": [],
   "source": [
    "url = \"train_data.csv\"\n",
    "url2 = \"test_data.csv\"\n",
    "\n",
    "file_name= '/Users/myatwin/REU/Project/ObjRec/automl/efficientdet/Distance_Jupyter/compare_model.csv'\n",
    "\n",
    "\n",
    "# predictors = [\"f1\", \"f2\", \"accuracy\", \"class_number\"]\n",
    "# predictors = [\"y_min\", \"x_min\", \"y_max\", \"x_max\", \"accuracy\", \"class_number\"]\n",
    "predictors = [\"y_min_sqrt\", \"x_min_sqrt\", \"y_max_sqrt\", \"x_max_sqrt\", \"accuracy\", \"class_number\"]\n",
    "csv_columns = ['data_set','class number', 'condition','error stats','linear', 'polynomial', 'vector_space','KNN','random_forest']\n",
    "class_number = []\n",
    "other = []\n",
    "raw_data = {}\n",
    "\n",
    "# training data\n",
    "dataset = pd.read_csv(url)\n",
    "a = [x in [1, 62, 15] for x in dataset['class_number']]\n",
    "temp_dataset = dataset[a]\n",
    "\n",
    "\n",
    "# training data\n",
    "dataset2 = pd.read_csv(url2)\n",
    "b = [z in [1, 62, 15] for z in dataset2['class_number']]\n",
    "temp_dataset2 = dataset2[b]\n",
    "\n",
    "# other = [x in other for x in dataset['class_number']]\n",
    "# other_data = dataset[other]# adding up\n",
    "\n",
    "\n",
    "# df = pd.DataFrame(raw_data, columns = csv_columns)\n",
    "# df.to_csv(file_name)\n",
    "\n",
    "# running all class numbers with more than 10 objects found\n",
    "\n",
    "\n",
    "X_train = temp_dataset[predictors].values\n",
    "X_test = temp_dataset2[predictors].values\n",
    "y_train = temp_dataset[\"distance\"].values\n",
    "y_test = temp_dataset2[\"distance\"].values\n",
    "# saving model results into csv \n",
    "#     pdb.set_trace()\n",
    "raw_data = {\n",
    "            'data_set': url,\n",
    "            'class number': \"person,chair,bench\", \n",
    "            'condition': str(predictors),   \n",
    "            'error stats': [\"RMSE\", \"r2\", \"MAE\"],\n",
    "            'linear': linear(X_train,X_test, y_train, y_test),\n",
    "            'polynomial': polynomial(X_train,X_test, y_train, y_test, 3),\n",
    "            'vector_space': vector_space(X_train,X_test, y_train, y_test),\n",
    "            'KNN': k_nearest_neighbor(X_train,X_test, y_train, y_test, 10),\n",
    "            'random_forest': random_forest(X_train,X_test, y_train, y_test)\n",
    "            }\n",
    "df = pd.DataFrame(raw_data, columns = csv_columns)\n",
    "df.to_csv(file_name, mode = 'a', header = False)\n"
   ]
  },
  {
   "cell_type": "markdown",
   "id": "8bc01c80",
   "metadata": {},
   "source": [
    "The below code runs the \"other\" rows"
   ]
  },
  {
   "cell_type": "code",
   "execution_count": 11,
   "id": "4cfc2c82",
   "metadata": {},
   "outputs": [],
   "source": [
    "file_name= '/Users/myatwin/REU/Project/ObjRec/automl/efficientdet/Distance_Jupyter/compare_model.csv'\n",
    "# df.to_csv(raw_data)\n",
    "\n",
    "predictors = [\"y_min_sqrt\", \"x_min_sqrt\", \"y_max_sqrt\", \"x_max_sqrt\", \"prediction\", \"class_number\"]\n",
    "csv_columns = ['data_set','class number', 'condition','error stats','linear', 'polynomial', 'vector_space','KNN','random_forest']\n",
    "# nning all class numbers with less than 10 objects found (combined list = a)\n",
    "a = [x in other for x in dataset['class_number']]\n",
    "other_dataset = dataset[a]\n",
    "# setting values for models\n",
    "X = other_dataset[predictors].values\n",
    "y = other_dataset[\"distance(inches)\"].values\n",
    "X_train, X_test, y_train, y_test = train_test_split(X, y, test_size=0.20, random_state=0)\n",
    "\n",
    "\n",
    "# #getting all model stats  \n",
    "raw_data = {\n",
    "                'data_set': url,\n",
    "                'class number': \"other\",  \n",
    "                'condition': str(predictors),   \n",
    "                'error stats': [\"RMSE\", \"r2\", \"MAE\"],\n",
    "                'linear': linear(X_train,X_test, y_train, y_test),\n",
    "                'polynomial': polynomial(X_train,X_test, y_train, y_test, 3),\n",
    "                'vector_space': vector_space(X_train,X_test, y_train, y_test),\n",
    "                'KNN': k_nearest_neighbor(X_train,X_test, y_train, y_test, 10),\n",
    "                'random_forest': random_forest(X_train,X_test, y_train, y_test)\n",
    "                }\n",
    "df = pd.DataFrame(raw_data, columns = csv_columns)\n",
    "df.to_csv(file_name, mode = 'a', header = False)\n"
   ]
  },
  {
   "cell_type": "markdown",
   "id": "3a15f4e0",
   "metadata": {},
   "source": [
    "# Testing all"
   ]
  },
  {
   "cell_type": "code",
   "execution_count": 13,
   "id": "1bf61240",
   "metadata": {},
   "outputs": [],
   "source": [
    "url = \"stat_distance.csv\"\n",
    "url2 = \"data1.csv\"\n",
    "file_name= '/Users/myatwin/REU/Project/ObjRec/automl/efficientdet/Distance_Jupyter/compare_model.csv'\n",
    "# df.to_csv(raw_data)\n",
    "raw_data = {}\n",
    "\n",
    "# testing predictors manually \n",
    "predictors = [\"y_min\", \"x_min\", \"y_max\", \"x_max\", \"confidence (prediction)\"]\n",
    "# predictors = [\"f1\", \"f2\",\"prediction\", \"class_number\"]\n",
    "# predictors = [\"y_min_sqrt\", \"x_min_sqrt\", \"y_max_sqrt\", \"x_max_sqrt\", \"prediction\", \"class_number\"]\n",
    "\n",
    "csv_columns = ['data_set','condition','error stats','linear', 'polynomial', 'vector_space','KNN','random_forest']\n",
    "dataset = pd.read_csv(url)\n",
    "df = pd.DataFrame(raw_data, columns = csv_columns)\n",
    "# df.to_csv(file_name)\n",
    "\n",
    "# running all class numbers with more than 10 objects found\n",
    "X = dataset[predictors].values\n",
    "y = dataset[\"distance\"].values\n",
    "X_train, X_test, y_train, y_test = train_test_split(X, y, test_size=0.20, random_state=0)\n",
    "\n",
    "# saving model results into csv \n",
    "raw_data = {\n",
    "            'data_set': url2, \n",
    "            'condition': str(predictors),   \n",
    "            'error stats': [\"RMSE\", \"r2\", \"MAE\"],\n",
    "            'linear': linear(X_train,X_test, y_train, y_test),\n",
    "            'polynomial': polynomial(X_train,X_test, y_train, y_test, 3),\n",
    "            'vector_space': vector_space(X_train,X_test, y_train, y_test),\n",
    "            'KNN': k_nearest_neighbor(X_train,X_test, y_train, y_test, 10),\n",
    "            'random_forest': random_forest(X_train,X_test, y_train, y_test)\n",
    "            }  \n",
    "df = pd.DataFrame(raw_data, columns = csv_columns)\n",
    "df.to_csv(file_name, mode = 'a', header = False)\n"
   ]
  },
  {
   "cell_type": "markdown",
   "id": "cca0a953",
   "metadata": {},
   "source": [
    "# Testing with graphs"
   ]
  },
  {
   "cell_type": "code",
   "execution_count": 10,
   "id": "504e81f4",
   "metadata": {},
   "outputs": [
    {
     "data": {
      "image/png": "[encoded data removed]",
      "text/plain": [
       "<Figure size 432x288 with 1 Axes>"
      ]
     },
     "metadata": {
      "needs_background": "light"
     },
     "output_type": "display_data"
    },
    {
     "name": "stdout",
     "output_type": "stream",
     "text": [
      "LR 30.219587442792314 0.7989289038019259 22.24289600688714\n"
     ]
    },
    {
     "data": {
      "image/png": "[encoded data removed]",
      "text/plain": [
       "<Figure size 432x288 with 1 Axes>"
      ]
     },
     "metadata": {
      "needs_background": "light"
     },
     "output_type": "display_data"
    },
    {
     "name": "stdout",
     "output_type": "stream",
     "text": [
      "Poly  24.259191241316184 0.8704238058801991 15.71544320790826\n"
     ]
    },
    {
     "data": {
      "image/png": "[encoded data removed]",
      "text/plain": [
       "<Figure size 432x288 with 1 Axes>"
      ]
     },
     "metadata": {
      "needs_background": "light"
     },
     "output_type": "display_data"
    },
    {
     "name": "stdout",
     "output_type": "stream",
     "text": [
      "VS  43.79776138616019 0.5776461962145203 23.048780487804876\n"
     ]
    },
    {
     "data": {
      "image/png": "[encoded data removed]",
      "text/plain": [
       "<Figure size 432x288 with 1 Axes>"
      ]
     },
     "metadata": {
      "needs_background": "light"
     },
     "output_type": "display_data"
    },
    {
     "name": "stdout",
     "output_type": "stream",
     "text": [
      "KNN  26.53967864694158 0.8449171036397065 13.478963414634148\n"
     ]
    },
    {
     "data": {
      "image/png": "[encoded data removed]",
      "text/plain": [
       "<Figure size 432x288 with 1 Axes>"
      ]
     },
     "metadata": {
      "needs_background": "light"
     },
     "output_type": "display_data"
    },
    {
     "name": "stdout",
     "output_type": "stream",
     "text": [
      "RF  22.943585372737573 0.8840968725529004 11.542682926829269\n"
     ]
    }
   ],
   "source": [
    "url = \"datacap1&2.csv\"\n",
    "data = pd.read_csv(url)\n",
    "\n",
    "\n",
    "file_name= '/Users/myatwin/REU/Project/ObjRec/automl/efficientdet/Distance_Jupyter/compare_model.csv'\n",
    "csv_columns = ['condition','RMSE', 'MAE', 'r2']\n",
    "raw_data = {}\n",
    "\n",
    "df = pd.DataFrame(raw_data, columns = csv_columns)\n",
    "# df.to_csv(raw_data)\n",
    "# predictors = [\"y_max\",\"x_min\", \"y_min\", \"x_max\", \"class_number\", \"prediction\"]\n",
    "predictors = [\"f1\", \"f2\", \"class_number\", \"prediction\"]\n",
    "# predictors = [\"y_min_sqrt\", \"x_min_sqrt\", \"y_max_sqrt\", \"x_max_sqrt\", \"class_number\", \"prediction\"]\n",
    "\n",
    "# training/testing\n",
    "X = data[predictors].values\n",
    "y = data[\"distance\"].values\n",
    "X_train, X_test, y_train, y_test = train_test_split(X, y, test_size=0.20, random_state=0)\n",
    "\n",
    "# running models\n",
    "L_RMSE, L_r2, L_MAE = linear(X_train,X_test, y_train, y_test)\n",
    "P_RMSE, P_r2, P_MAE = polynomial(X_train,X_test, y_train, y_test, 3)\n",
    "VS_RMSE, VS_r2, VS_MAE = vector_space(X_train,X_test, y_train, y_test)\n",
    "KNN_RMSE, KNN_r2, KNN_MAE = k_nearest_neighbor(X_train,X_test, y_train, y_test, 10)\n",
    "RF_RMSE, RF_r2, RF_MAE = random_forest(X_train,X_test, y_train, y_test)\n",
    "\n",
    "# saving model results into csv \n",
    "raw_data = { \n",
    "            'condition': str(predictors),   \n",
    "            'RMSE': list([L_RMSE, P_RMSE, VS_RMSE, KNN_RMSE, RF_RMSE]),\n",
    "            'MAE': list([L_MAE, P_MAE, VS_MAE, KNN_MAE, RF_MAE]), \n",
    "            'r2': list([L_r2, P_r2, VS_r2, KNN_r2, RF_r2])\n",
    "            }  \n",
    "df = pd.DataFrame(raw_data, columns = csv_columns)\n",
    "df.to_csv(file_name, mode = 'a', header = False)\n"
   ]
  },
  {
   "cell_type": "markdown",
   "id": "5a8a07dd",
   "metadata": {},
   "source": [
    "# bar graphs"
   ]
  },
  {
   "cell_type": "code",
   "execution_count": 11,
   "id": "c404b00a",
   "metadata": {},
   "outputs": [
    {
     "data": {
      "image/png": "[encoded data removed]",
      "text/plain": [
       "<Figure size 504x360 with 1 Axes>"
      ]
     },
     "metadata": {
      "needs_background": "light"
     },
     "output_type": "display_data"
    }
   ],
   "source": [
    "fields = [\"linear\", \"polynomial\", \"vector_space\", \"KNN\", \"random_forest\"]\n",
    "# lin = data[data[\"class number\"]==1][\"linear\"]\n",
    "        \n",
    "RMSE = [L_RMSE,P_RMSE, VS_RMSE, KNN_RMSE, RF_RMSE]\n",
    "r2 = [L_r2,P_r2, VS_r2, KNN_r2, RF_r2]\n",
    "MAE = [L_MAE,P_MAE, VS_MAE, KNN_MAE, RF_MAE]\n",
    "\n",
    "plt.figure(figsize=(7, 5))\n",
    "plt.margins(x=0.05)\n",
    "plt.title(f\"RMSE score\")\n",
    "for ind, error in enumerate(RMSE):\n",
    "    plt.bar(fields[ind],error)"
   ]
  },
  {
   "cell_type": "code",
   "execution_count": 12,
   "id": "4b522de0",
   "metadata": {},
   "outputs": [
    {
     "data": {
      "image/png": "[encoded data removed]",
      "text/plain": [
       "<Figure size 504x360 with 1 Axes>"
      ]
     },
     "metadata": {
      "needs_background": "light"
     },
     "output_type": "display_data"
    }
   ],
   "source": [
    "fields = [\"linear\", \"polynomial\", \"vector_space\", \"KNN\", \"random_forest\"]\n",
    "# lin = data[data[\"class number\"]==1][\"linear\"]\n",
    "        \n",
    "RMSE = [L_RMSE,P_RMSE, VS_RMSE, KNN_RMSE, RF_RMSE]\n",
    "r2 = [L_r2,P_r2, VS_r2, KNN_r2, RF_r2]\n",
    "MAE = [L_MAE,P_MAE, VS_MAE, KNN_MAE, RF_MAE]\n",
    "error_list = [RMSE, r2, MAE]\n",
    "\n",
    "plt.figure(figsize=(7, 5))\n",
    "plt.margins(x=0.05)\n",
    "plt.title(f\"r2 score\")\n",
    "for ind, error in enumerate(r2):\n",
    "    plt.bar(fields[ind],error)"
   ]
  },
  {
   "cell_type": "code",
   "execution_count": 13,
   "id": "dd19f5c1",
   "metadata": {},
   "outputs": [
    {
     "data": {
      "image/png": "[encoded data removed]",
      "text/plain": [
       "<Figure size 504x360 with 1 Axes>"
      ]
     },
     "metadata": {
      "needs_background": "light"
     },
     "output_type": "display_data"
    }
   ],
   "source": [
    "fields = [\"linear\", \"polynomial\", \"vector_space\", \"KNN\", \"random_forest\"]\n",
    "# lin = data[data[\"class number\"]==1][\"linear\"]\n",
    "        \n",
    "RMSE = [L_RMSE,P_RMSE, VS_RMSE, KNN_RMSE, RF_RMSE]\n",
    "r2 = [L_r2,P_r2, VS_r2, KNN_r2, RF_r2]\n",
    "MAE = [L_MAE,P_MAE, VS_MAE, KNN_MAE, RF_MAE]\n",
    "error_list = [RMSE, r2, MAE]\n",
    "\n",
    "plt.figure(figsize=(7, 5))\n",
    "plt.margins(x=0.05)\n",
    "plt.title(f\"MAE score\")\n",
    "for ind, error in enumerate(MAE):\n",
    "    plt.bar(fields[ind],error)"
   ]
  },
  {
   "cell_type": "code",
   "execution_count": 23,
   "id": "3240e6bc",
   "metadata": {},
   "outputs": [],
   "source": [
    "# # this will empty the csv file\n",
    "# file_name= '/Users/myatwin/REU/Project/ObjRec/automl/efficientdet/Distance_Jupyter/compare_model.csv'\n",
    "# df = open(file_name, \"w+\")"
   ]
  },
  {
   "cell_type": "code",
   "execution_count": null,
   "id": "b2f8b491",
   "metadata": {},
   "outputs": [],
   "source": []
  }
 ],
 "metadata": {
  "kernelspec": {
   "display_name": "Python 3",
   "language": "python",
   "name": "python3"
  },
  "language_info": {
   "codemirror_mode": {
    "name": "ipython",
    "version": 3
   },
   "file_extension": ".py",
   "mimetype": "text/x-python",
   "name": "python",
   "nbconvert_exporter": "python",
   "pygments_lexer": "ipython3",
   "version": "3.7.10"
  }
 },
 "nbformat": 4,
 "nbformat_minor": 5
}
